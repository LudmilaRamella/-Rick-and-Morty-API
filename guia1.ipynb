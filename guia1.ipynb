{
  "nbformat": 4,
  "nbformat_minor": 0,
  "metadata": {
    "colab": {
      "provenance": [],
      "authorship_tag": "ABX9TyNUbKblfH2md+vAZVFIqD+p",
      "include_colab_link": true
    },
    "kernelspec": {
      "name": "python3",
      "display_name": "Python 3"
    },
    "language_info": {
      "name": "python"
    }
  },
  "cells": [
    {
      "cell_type": "markdown",
      "metadata": {
        "id": "view-in-github",
        "colab_type": "text"
      },
      "source": [
        "<a href=\"https://colab.research.google.com/github/LudmilaRamella/-Rick-and-Morty-API/blob/main/guia1.ipynb\" target=\"_parent\"><img src=\"https://colab.research.google.com/assets/colab-badge.svg\" alt=\"Open In Colab\"/></a>"
      ]
    },
    {
      "cell_type": "markdown",
      "source": [
        "Guía 1"
      ],
      "metadata": {
        "id": "cz4yCFrUx_DJ"
      }
    },
    {
      "cell_type": "markdown",
      "source": [
        "ejercicio 1"
      ],
      "metadata": {
        "id": "6RvOo0aRN7Vl"
      }
    },
    {
      "cell_type": "code",
      "execution_count": null,
      "metadata": {
        "colab": {
          "base_uri": "https://localhost:8080/"
        },
        "collapsed": true,
        "id": "H3oktmpKx9xC",
        "outputId": "1589b738-e187-4db7-e0d6-0134be55cb16"
      },
      "outputs": [
        {
          "output_type": "stream",
          "name": "stdout",
          "text": [
            "*\n",
            " *\n",
            "***\n",
            "***\n",
            "***\n",
            "*\n",
            "*\n"
          ]
        }
      ],
      "source": [
        "print(\"*\")\n",
        "print(\"*\")\n",
        "print(\"***\")\n",
        "print(\"***\")\n",
        "print(\"***\")\n",
        "print(\"*\")\n",
        "print(\"*\")"
      ]
    },
    {
      "cell_type": "markdown",
      "source": [
        "ejercicio 2"
      ],
      "metadata": {
        "id": "SOxLeu9hOAaG"
      }
    },
    {
      "cell_type": "code",
      "source": [
        "print(\"Nombre: Ludmila\")\n",
        "print(\"Edad: 21 años\")\n",
        "print(\"Expectativa del curso:\")  # Sección para la expectativa\n",
        "print(\"Aprender los fundamentos de IA\")\n",
        "print(\"y desarrollar habilidades.\")"
      ],
      "metadata": {
        "id": "uHN8c3NW0Ra6"
      },
      "execution_count": null,
      "outputs": []
    },
    {
      "cell_type": "markdown",
      "source": [
        "ejercicio 3"
      ],
      "metadata": {
        "id": "CpA_HO27OCdM"
      }
    },
    {
      "cell_type": "code",
      "source": [
        "numero1 = 10\n",
        "numero2 = 5\n",
        "\n",
        "suma = numero1 + numero2\n",
        "resta = numero1 - numero2\n",
        "multiplicacion = numero1 * numero2\n",
        "division = numero1 / numero2\n",
        "\n",
        "# Mostrar\n",
        "print(\"Suma:\", suma)\n",
        "print(\"Resta:\", resta)\n",
        "print(\"Multiplicación:\", multiplicacion)\n",
        "print(\"División:\", division)"
      ],
      "metadata": {
        "id": "dL4wO2kbEqqQ"
      },
      "execution_count": null,
      "outputs": []
    }
  ]
}